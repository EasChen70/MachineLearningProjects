{
 "cells": [
  {
   "cell_type": "code",
   "execution_count": 8,
   "metadata": {},
   "outputs": [],
   "source": [
    "import torchvision.datasets as datasets\n",
    "import torchvision.transforms as transforms\n",
    "import torch\n",
    "from torch.utils.data import random_split\n",
    "import matplotlib.pyplot as plt\n",
    "import numpy as np\n",
    "import random\n",
    "from transformers import CLIPProcessor, CLIPModel\n",
    "import gc\n",
    "from tqdm import tqdm \n",
    "import gdown"
   ]
  },
  {
   "cell_type": "code",
   "execution_count": 9,
   "metadata": {},
   "outputs": [
    {
     "name": "stderr",
     "output_type": "stream",
     "text": [
      "Downloading...\n",
      "From (original): https://drive.google.com/uc?id=137RyRjvTBkBiIfeYBNZBtViDHQ6_Ewsp\n",
      "From (redirected): https://drive.usercontent.google.com/download?id=137RyRjvTBkBiIfeYBNZBtViDHQ6_Ewsp&confirm=t&uuid=44d0e344-4afe-4d6f-92c7-bd21977bfb6a\n",
      "To: c:\\Users\\Eason\\Downloads\\CSC461\\data\\caltech101\\101_ObjectCategories.tar.gz\n",
      "100%|██████████| 132M/132M [00:17<00:00, 7.54MB/s] \n"
     ]
    },
    {
     "name": "stdout",
     "output_type": "stream",
     "text": [
      "Extracting ./data\\caltech101\\101_ObjectCategories.tar.gz to ./data\\caltech101\n"
     ]
    },
    {
     "name": "stderr",
     "output_type": "stream",
     "text": [
      "Downloading...\n",
      "From (original): https://drive.google.com/uc?id=175kQy3UsZ0wUEHZjqkUDdNVssr7bgh_m\n",
      "From (redirected): https://drive.usercontent.google.com/download?id=175kQy3UsZ0wUEHZjqkUDdNVssr7bgh_m&confirm=t&uuid=3f22df3a-db8a-465b-843e-c9b19246dee4\n",
      "To: c:\\Users\\Eason\\Downloads\\CSC461\\data\\caltech101\\Annotations.tar\n",
      "100%|██████████| 14.0M/14.0M [00:03<00:00, 3.80MB/s]\n"
     ]
    },
    {
     "name": "stdout",
     "output_type": "stream",
     "text": [
      "Extracting ./data\\caltech101\\Annotations.tar to ./data\\caltech101\n",
      "training images: 8243, test images: 434\n"
     ]
    }
   ],
   "source": [
    "# define a transformation to convert images to Torch tensors\n",
    "transform = transforms.Compose([transforms.ToTensor()])\n",
    "dataset = datasets.Caltech101(root='./data', transform=transform, download=True)\n",
    "# randomly split the dataset into training and test sets\n",
    "train_dataset, test_dataset = random_split(dataset, [int(.95*len(dataset)), len(dataset)-int(.95*len(dataset))])\n",
    "print(f'training images: {len(train_dataset)}, test images: {len(test_dataset)}')"
   ]
  },
  {
   "cell_type": "code",
   "execution_count": 10,
   "metadata": {},
   "outputs": [
    {
     "name": "stdout",
     "output_type": "stream",
     "text": [
      "training images: 7882, test images: 414\n",
      "number of categories: 101\n"
     ]
    },
    {
     "data": {
      "text/plain": [
       "0"
      ]
     },
     "execution_count": 10,
     "metadata": {},
     "output_type": "execute_result"
    }
   ],
   "source": [
    "# extract the images and labels from the dataset objects\n",
    "# at the same time, we will discard all images that do\n",
    "# not contain 3-channel RGB data, ensuring images are\n",
    "# compatible with the CLIP model\n",
    "train_images = [train_dataset[i][0] for i in range(len(train_dataset)) if train_dataset[i][0].shape[0] == 3]\n",
    "train_labels = [train_dataset[i][1] for i in range(len(train_dataset)) if train_dataset[i][0].shape[0] == 3]\n",
    "test_images = [test_dataset[i][0] for i in range(len(test_dataset)) if test_dataset[i][0].shape[0] == 3]\n",
    "test_labels = [test_dataset[i][1] for i in range(len(test_dataset)) if test_dataset[i][0].shape[0] == 3]\n",
    "print(f'training images: {len(train_images)}, test images: {len(test_images)}')\n",
    "# make a copy of the list of categories\n",
    "categories = dataset.categories.copy()\n",
    "print(f'number of categories: {len(categories)}')\n",
    "# free the memory used by the dataset objects\n",
    "del dataset, train_dataset, test_dataset\n",
    "gc.collect()"
   ]
  }
 ],
 "metadata": {
  "kernelspec": {
   "display_name": "Python 3",
   "language": "python",
   "name": "python3"
  },
  "language_info": {
   "codemirror_mode": {
    "name": "ipython",
    "version": 3
   },
   "file_extension": ".py",
   "mimetype": "text/x-python",
   "name": "python",
   "nbconvert_exporter": "python",
   "pygments_lexer": "ipython3",
   "version": "3.12.5"
  }
 },
 "nbformat": 4,
 "nbformat_minor": 2
}
